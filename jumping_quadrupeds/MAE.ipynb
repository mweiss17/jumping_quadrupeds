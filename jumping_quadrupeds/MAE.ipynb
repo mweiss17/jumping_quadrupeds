{
 "cells": [
  {
   "cell_type": "code",
   "execution_count": null,
   "id": "b917379f-c28c-4d7c-9901-72ee87a16e1b",
   "metadata": {},
   "outputs": [],
   "source": [
    "!pip install einops\n",
    "# !pip install vit_pytorch\n",
    "!pip install ipywidgets\n",
    "!pip install dill\n",
    "!pip install torchmeta\n",
    "!git clone https://github.com/lucidrains/vit-pytorch\n"
   ]
  },
  {
   "cell_type": "code",
   "execution_count": 1,
   "id": "af4b8114-d3a7-4828-9e13-32852d7c5f83",
   "metadata": {},
   "outputs": [],
   "source": [
    "import os \n",
    "os.environ['CUDA_VISIBLE_DEVICES'] = '0' \n",
    "import torchvision\n",
    "import numpy as np\n",
    "import matplotlib.pyplot as plt\n",
    "import dill\n",
    "import math\n",
    "from itertools import cycle\n",
    "\n",
    "import torch\n",
    "from torch import nn\n",
    "import torch.nn.functional as F\n",
    "from torch.utils.data import DataLoader\n",
    "import torchvision.transforms as transforms\n",
    "from torchmeta.datasets.helpers import miniimagenet\n",
    "from torchmeta.utils.data import NonEpisodicWrapper\n",
    "\n",
    "from jumping_quadrupeds.eth.dataset import Hdf5ImgDataset\n",
    "from jumping_quadrupeds.utils import common_img_transforms, abs_path\n",
    "from torch.utils.data import RandomSampler, DataLoader, Subset\n",
    "\n",
    "from einops import rearrange, repeat, reduce\n",
    "from einops.layers.torch import Rearrange\n"
   ]
  },
  {
   "cell_type": "code",
   "execution_count": 2,
   "id": "2d12d797-ce32-4ca1-a023-275b57fd5f37",
   "metadata": {},
   "outputs": [
    {
     "data": {
      "text/plain": [
       "True"
      ]
     },
     "execution_count": 2,
     "metadata": {},
     "output_type": "execute_result"
    }
   ],
   "source": [
    "torch.cuda.is_available()"
   ]
  },
  {
   "cell_type": "code",
   "execution_count": 137,
   "id": "b18f0831-17f5-44b3-8063-220195314d0b",
   "metadata": {},
   "outputs": [],
   "source": [
    "# helpers\n",
    "def imshow(img):\n",
    "    img = img / 2 + 0.5     # unnormalize\n",
    "    npimg = img.numpy()\n",
    "    plt.imshow(np.transpose(npimg, (1, 2, 0)))\n",
    "    plt.show()\n",
    "    \n",
    "\n",
    "def pair(t):\n",
    "    return t if isinstance(t, tuple) else (t, t)\n",
    "\n",
    "def exists(val):\n",
    "    return val is not None\n",
    "\n",
    "def prob_mask_like(t, prob):\n",
    "    batch, seq_length, _ = t.shape\n",
    "    return torch.zeros((batch, seq_length)).float().uniform_(0, 1) < prob\n",
    "\n",
    "def get_mask_subset_with_prob(patched_input, prob):\n",
    "    batch, seq_len, _, device = *patched_input.shape, patched_input.device\n",
    "    max_masked = math.ceil(prob * seq_len)\n",
    "\n",
    "    rand = torch.rand((batch, seq_len), device=device)\n",
    "    _, sampled_indices = rand.topk(max_masked, dim=-1)\n",
    "\n",
    "    new_mask = torch.zeros((batch, seq_len), device=device)\n",
    "    new_mask.scatter_(1, sampled_indices, 1)\n",
    "    return new_mask.bool()\n",
    "\n"
   ]
  },
  {
   "cell_type": "code",
   "execution_count": null,
   "id": "a383f1c9-a730-4e21-b9c5-1548e91070e8",
   "metadata": {},
   "outputs": [],
   "source": []
  },
  {
   "cell_type": "code",
   "execution_count": 138,
   "id": "89665e76-1cd0-4b7d-8f2e-4acacfdac706",
   "metadata": {},
   "outputs": [],
   "source": [
    "# classes\n",
    "\n",
    "class PreNorm(nn.Module):\n",
    "    def __init__(self, dim, fn):\n",
    "        super().__init__()\n",
    "        self.norm = nn.LayerNorm(dim)\n",
    "        self.fn = fn\n",
    "    def forward(self, x, **kwargs):\n",
    "        return self.fn(self.norm(x), **kwargs)\n",
    "\n",
    "class FeedForward(nn.Module):\n",
    "    def __init__(self, dim, hidden_dim, dropout = 0.):\n",
    "        super().__init__()\n",
    "        self.net = nn.Sequential(\n",
    "            nn.Linear(dim, hidden_dim),\n",
    "            nn.GELU(),\n",
    "            nn.Dropout(dropout),\n",
    "            nn.Linear(hidden_dim, dim),\n",
    "            nn.Dropout(dropout)\n",
    "        )\n",
    "    def forward(self, x):\n",
    "        return self.net(x)\n",
    "\n",
    "class Attention(nn.Module):\n",
    "    def __init__(self, dim, heads = 8, dim_head = 64, dropout = 0.):\n",
    "        super().__init__()\n",
    "        inner_dim = dim_head *  heads\n",
    "        project_out = not (heads == 1 and dim_head == dim)\n",
    "\n",
    "        self.heads = heads\n",
    "        self.scale = dim_head ** -0.5\n",
    "\n",
    "        self.attend = nn.Softmax(dim = -1)\n",
    "        self.to_qkv = nn.Linear(dim, inner_dim * 3, bias = False)\n",
    "\n",
    "        self.to_out = nn.Sequential(\n",
    "            nn.Linear(inner_dim, dim),\n",
    "            nn.Dropout(dropout)\n",
    "        ) if project_out else nn.Identity()\n",
    "\n",
    "    def forward(self, x):\n",
    "        qkv = self.to_qkv(x).chunk(3, dim = -1)\n",
    "        q, k, v = map(lambda t: rearrange(t, 'b n (h d) -> b h n d', h = self.heads), qkv)\n",
    "\n",
    "        dots = torch.matmul(q, k.transpose(-1, -2)) * self.scale\n",
    "\n",
    "        attn = self.attend(dots)\n",
    "\n",
    "        out = torch.matmul(attn, v)\n",
    "        out = rearrange(out, 'b h n d -> b n (h d)')\n",
    "        return self.to_out(out)\n",
    "\n",
    "class Transformer(nn.Module):\n",
    "    def __init__(self, dim, depth, heads, dim_head, mlp_dim, dropout = 0.):\n",
    "        super().__init__()\n",
    "        self.layers = nn.ModuleList([])\n",
    "        for _ in range(depth):\n",
    "            self.layers.append(nn.ModuleList([\n",
    "                PreNorm(dim, Attention(dim, heads = heads, dim_head = dim_head, dropout = dropout)),\n",
    "                PreNorm(dim, FeedForward(dim, mlp_dim, dropout = dropout))\n",
    "            ]))\n",
    "    def forward(self, x):\n",
    "        for attn, ff in self.layers:\n",
    "            x = attn(x) + x\n",
    "            x = ff(x) + x\n",
    "        return x\n",
    "\n",
    "class ViT(nn.Module):\n",
    "    def __init__(self, *, image_size, patch_size, num_classes, dim, depth, heads, mlp_dim, pool = 'cls', channels = 3, dim_head = 64, dropout = 0., emb_dropout = 0., seq_len=1):\n",
    "        super().__init__()\n",
    "        image_height, image_width = pair(image_size)\n",
    "        patch_height, patch_width = pair(patch_size)\n",
    "\n",
    "        assert image_height % patch_height == 0 and image_width % patch_width == 0, 'Image dimensions must be divisible by the patch size.'\n",
    "\n",
    "        num_patches = (image_height // patch_height) * (image_width // patch_width) * seq_len\n",
    "        patch_dim = channels * patch_height * patch_width\n",
    "        assert pool in {'cls', 'mean'}, 'pool type must be either cls (cls token) or mean (mean pooling)'\n",
    "\n",
    "        self.to_patch_embedding = nn.Sequential(\n",
    "            Rearrange('b s c (h p1) (w p2) -> b (s h w) (p1 p2 c)', p1 = patch_height, p2 = patch_width, s=seq_len),\n",
    "            nn.Linear(patch_dim, dim),\n",
    "        )\n",
    "\n",
    "        self.pos_embedding = nn.Parameter(torch.randn(1, num_patches + 1, dim))\n",
    "        self.cls_token = nn.Parameter(torch.randn(1, 1, dim))\n",
    "        self.dropout = nn.Dropout(emb_dropout)\n",
    "\n",
    "        self.transformer = Transformer(dim, depth, heads, dim_head, mlp_dim, dropout)\n",
    "\n",
    "        self.pool = pool\n",
    "        self.to_latent = nn.Identity()\n",
    "\n",
    "        self.mlp_head = nn.Sequential(\n",
    "            nn.LayerNorm(dim),\n",
    "            nn.Linear(dim, num_classes)\n",
    "        )\n",
    "\n",
    "    def forward(self, imgs):\n",
    "        x = self.to_patch_embedding(imgs)\n",
    "        b, s, n, _ = x.shape\n",
    "\n",
    "        cls_tokens = repeat(self.cls_token, '() n d -> b n d', b = b)\n",
    "        x = torch.cat((cls_tokens, x), dim=1)\n",
    "        x += self.pos_embedding[:, :(n + 1)]\n",
    "        x = self.dropout(x)\n",
    "\n",
    "        x = self.transformer(x)\n",
    "\n",
    "        x = x.mean(dim = 1) if self.pool == 'mean' else x[:, 0]\n",
    "\n",
    "        x = self.to_latent(x)\n",
    "        return self.mlp_head(x)\n"
   ]
  },
  {
   "cell_type": "code",
   "execution_count": 260,
   "id": "ec7b9ad4-af6a-49e1-b074-f16cb1eeef65",
   "metadata": {},
   "outputs": [],
   "source": [
    "\n",
    "class MAE(nn.Module):\n",
    "    def __init__(\n",
    "        self,\n",
    "        *,\n",
    "        encoder,\n",
    "        decoder_dim,\n",
    "        masking_ratio = 0.75,\n",
    "        decoder_depth = 1,\n",
    "        decoder_heads = 8,\n",
    "        decoder_dim_head = 64,\n",
    "        mask_strat=\"middle\", # all\n",
    "    ):\n",
    "        super().__init__()\n",
    "        assert masking_ratio > 0 and masking_ratio < 1, 'masking ratio must be kept between 0 and 1'\n",
    "        self.masking_ratio = masking_ratio\n",
    "        self.mask_strat = mask_strat\n",
    "        # extract some hyperparameters and functions from encoder (vision transformer to be trained)\n",
    "    \n",
    "        self.encoder = encoder\n",
    "        num_patches, encoder_dim = encoder.pos_embedding.shape[-2:]\n",
    "        self.to_patch, self.patch_to_emb = encoder.to_patch_embedding[:2]\n",
    "        pixel_values_per_patch = self.patch_to_emb.weight.shape[-1]\n",
    "        # decoder parameters\n",
    "\n",
    "        self.enc_to_dec = nn.Linear(encoder_dim, decoder_dim) if encoder_dim != decoder_dim else nn.Identity()\n",
    "        self.mask_token = nn.Parameter(torch.randn(decoder_dim))\n",
    "        self.decoder = Transformer(dim = decoder_dim, depth = decoder_depth, heads = decoder_heads, dim_head = decoder_dim_head, mlp_dim = decoder_dim * 4)\n",
    "        self.decoder_pos_emb = nn.Embedding(num_patches, decoder_dim)\n",
    "        self.to_pixels = nn.Linear(decoder_dim, pixel_values_per_patch)\n",
    "\n",
    "        \n",
    "    def forward(self, imgs, device):\n",
    "        # get patches\n",
    "        patches = self.to_patch(imgs)\n",
    "        batch, num_patches, *_ = patches.shape\n",
    "\n",
    "        # patch to encoder tokens and add positions\n",
    "        tokens = self.patch_to_emb(patches)\n",
    "        tokens = tokens + self.encoder.pos_embedding[:, 1:(num_patches + 1)]\n",
    "        \n",
    "        # calculate of patches needed to be masked, and get random indices, dividing it up for mask vs unmasked\n",
    "        if self.mask_strat == \"all\":\n",
    "            num_masked = int(self.masking_ratio * num_patches)\n",
    "            rand_indices = torch.rand(batch, num_patches, device = device).argsort(dim = -1)\n",
    "            masked_indices, unmasked_indices = rand_indices[:, :num_masked], rand_indices[:, num_masked:]\n",
    "        elif self.mask_strat == \"middle\":\n",
    "            seq_len = imgs.shape[1]\n",
    "            patches_per_image = num_patches // seq_len\n",
    "            num_masked = int(self.masking_ratio * num_patches // seq_len)\n",
    "            rand_indices = torch.rand(batch, num_patches // seq_len, device = device).argsort(dim = -1) + patches_per_image\n",
    "            masked_indices, unmasked_indices = rand_indices[:, :num_masked], rand_indices[:, num_masked:]\n",
    "            \n",
    "            \n",
    "        # get the unmasked tokens to be encoded\n",
    "        batch_range = torch.arange(batch, device = device)[:, None]\n",
    "        tokens = tokens[batch_range, unmasked_indices]\n",
    "\n",
    "        # get the patches to be masked for the final reconstruction loss\n",
    "        masked_patches = patches[batch_range, masked_indices]\n",
    "\n",
    "        # attend with vision transformer\n",
    "        encoded_tokens = self.encoder.transformer(tokens)\n",
    "\n",
    "        # project encoder to decoder dimensions, if they are not equal - the paper says you can get away with a smaller dimension for decoder\n",
    "        decoder_tokens = self.enc_to_dec(encoded_tokens)\n",
    "\n",
    "        # reapply decoder position embedding to unmasked tokens\n",
    "        decoder_tokens = decoder_tokens + self.decoder_pos_emb(unmasked_indices)\n",
    "\n",
    "        # repeat mask tokens for number of masked, and add the positions using the masked indices derived above\n",
    "        mask_tokens = repeat(self.mask_token, 'd -> b n d', b = batch, n = num_masked)\n",
    "        mask_tokens = mask_tokens + self.decoder_pos_emb(masked_indices)\n",
    "\n",
    "        # concat the masked tokens to the decoder tokens and attend with decoder\n",
    "        decoder_tokens = torch.cat((mask_tokens, decoder_tokens), dim = 1)\n",
    "        decoded_tokens = self.decoder(decoder_tokens)\n",
    "\n",
    "        # splice out the mask tokens and project to pixel values\n",
    "        mask_tokens = decoded_tokens[:, :num_masked]\n",
    "        pred_pixel_values = self.to_pixels(mask_tokens)\n",
    "\n",
    "        # calculate reconstruction loss\n",
    "        recon_loss = F.mse_loss(pred_pixel_values, masked_patches)\n",
    "        return recon_loss, pred_pixel_values, masked_indices, unmasked_indices, patches\n"
   ]
  },
  {
   "cell_type": "code",
   "execution_count": 261,
   "id": "7a98523b-4fb8-473e-b174-1e3c49323ad0",
   "metadata": {},
   "outputs": [
    {
     "data": {
      "text/plain": [
       "torch.Size([42, 147])"
      ]
     },
     "execution_count": 261,
     "metadata": {},
     "output_type": "execute_result"
    }
   ],
   "source": [
    "vit.to_patch_embedding[0](images).shape\n",
    "rand_indices = torch.rand(42, 147, device = device).argsort(dim = -1)\n",
    "rand_indices.shape"
   ]
  },
  {
   "cell_type": "code",
   "execution_count": 333,
   "id": "25d6c668-a708-4e13-9d5b-f7ff86f91229",
   "metadata": {},
   "outputs": [],
   "source": [
    "IMAGE_SIZE = 84\n",
    "PATCH_SIZE = 12 # 32\n",
    "NUM_PATCHES = 84//12\n",
    "SEQ_LEN = 3\n",
    "device = torch.device(\"cuda\") if torch.cuda.is_available() else torch.device(\"cpu\")\n",
    "\n",
    "vit = ViT(\n",
    "    image_size=IMAGE_SIZE, #256\n",
    "    patch_size=PATCH_SIZE,\n",
    "    num_classes=1000,\n",
    "    dim=1024,\n",
    "    depth=6,\n",
    "    heads=8,\n",
    "    mlp_dim=512, #2048\n",
    "    dropout=0.1,\n",
    "    emb_dropout=0.1,\n",
    "    seq_len=SEQ_LEN,\n",
    ").to(device)\n",
    "mae = MAE(\n",
    "    encoder = vit,\n",
    "    masking_ratio = 0.75,   # the paper recommended 75% masked patches\n",
    "    decoder_dim = 512,      # paper showed good results with just 512\n",
    "    decoder_depth = 2       # anywhere from 1 to 8\n",
    ").to(device)\n",
    "\n",
    "opt = torch.optim.AdamW(mae.parameters(), lr=5e-4)\n"
   ]
  },
  {
   "cell_type": "code",
   "execution_count": 334,
   "id": "4d101f67-164f-4899-9047-0fdac39356ea",
   "metadata": {},
   "outputs": [],
   "source": [
    "\n",
    "transform = common_img_transforms(size=IMAGE_SIZE)\n",
    "\n",
    "ds_path = \"../CarRacing-v0_rollouts_e256_t200.hdf5\"\n",
    "train_dataset = Hdf5ImgDataset(ds_path, transform=transform, flat=True, seq_len=3)\n",
    "sampler = RandomSampler(train_dataset)\n",
    "dataloader = DataLoader(train_dataset, sampler=sampler, batch_size=128)\n"
   ]
  },
  {
   "cell_type": "code",
   "execution_count": 335,
   "id": "c76fde71-be90-40d5-8bbe-df0b4450283a",
   "metadata": {
    "scrolled": true,
    "tags": []
   },
   "outputs": [
    {
     "name": "stdout",
     "output_type": "stream",
     "text": [
      "step: 0, loss: 0.9723274111747742\n",
      "step: 10, loss: 0.07339245826005936\n",
      "step: 20, loss: 0.025467870756983757\n",
      "step: 30, loss: 0.014571912586688995\n",
      "step: 40, loss: 0.010439314879477024\n",
      "step: 50, loss: 0.008687470108270645\n",
      "step: 60, loss: 0.008381949737668037\n",
      "step: 70, loss: 0.007680930197238922\n",
      "step: 80, loss: 0.008098815567791462\n",
      "step: 90, loss: 0.00828559696674347\n",
      "step: 100, loss: 0.008272763341665268\n",
      "step: 110, loss: 0.007795340847223997\n",
      "step: 120, loss: 0.007041286677122116\n",
      "step: 130, loss: 0.008135110139846802\n",
      "step: 0, loss: 0.0077425590716302395\n",
      "step: 10, loss: 0.008456859737634659\n",
      "step: 20, loss: 0.00730076665058732\n",
      "step: 30, loss: 0.008074349723756313\n",
      "step: 40, loss: 0.008074543438851833\n",
      "step: 50, loss: 0.007847483269870281\n",
      "step: 60, loss: 0.008151468820869923\n",
      "step: 70, loss: 0.007809765636920929\n",
      "step: 80, loss: 0.0076937987469136715\n",
      "step: 90, loss: 0.007493400480598211\n",
      "step: 100, loss: 0.00784599594771862\n",
      "step: 110, loss: 0.008156237192451954\n",
      "step: 120, loss: 0.008058530278503895\n",
      "step: 130, loss: 0.007794645614922047\n",
      "step: 0, loss: 0.007682639639824629\n",
      "step: 10, loss: 0.0077860974706709385\n",
      "step: 20, loss: 0.0077085052616894245\n",
      "step: 30, loss: 0.007619773503392935\n",
      "step: 40, loss: 0.006895795464515686\n",
      "step: 50, loss: 0.007881779223680496\n",
      "step: 60, loss: 0.007156901992857456\n",
      "step: 70, loss: 0.0074452427215874195\n",
      "step: 80, loss: 0.006803428288549185\n",
      "step: 90, loss: 0.006692798808217049\n",
      "step: 100, loss: 0.007183452602475882\n",
      "step: 110, loss: 0.0060874843038618565\n",
      "step: 120, loss: 0.006128363776952028\n",
      "step: 130, loss: 0.006636245641857386\n",
      "step: 0, loss: 0.0068231020122766495\n",
      "step: 10, loss: 0.006787588354200125\n",
      "step: 20, loss: 0.00573838921263814\n",
      "step: 30, loss: 0.00609369995072484\n",
      "step: 40, loss: 0.005533363204449415\n",
      "step: 50, loss: 0.00463124830275774\n",
      "step: 60, loss: 0.005002547986805439\n",
      "step: 70, loss: 0.004750111605972052\n",
      "step: 80, loss: 0.004991978406906128\n",
      "step: 90, loss: 0.004955491051077843\n",
      "step: 100, loss: 0.005126100964844227\n",
      "step: 110, loss: 0.00467344606295228\n",
      "step: 120, loss: 0.005157948471605778\n",
      "step: 130, loss: 0.004837137181311846\n",
      "step: 0, loss: 0.004775082692503929\n",
      "step: 10, loss: 0.004196280147880316\n",
      "step: 20, loss: 0.004437678027898073\n",
      "step: 30, loss: 0.004655167460441589\n",
      "step: 40, loss: 0.004721055738627911\n",
      "step: 50, loss: 0.004581662360578775\n",
      "step: 60, loss: 0.004013404715806246\n",
      "step: 70, loss: 0.004672452807426453\n",
      "step: 80, loss: 0.004692568443715572\n",
      "step: 90, loss: 0.004432599525898695\n",
      "step: 100, loss: 0.004270548466593027\n",
      "step: 110, loss: 0.0046861604787409306\n",
      "step: 120, loss: 0.00408451072871685\n",
      "step: 130, loss: 0.004468461498618126\n",
      "step: 0, loss: 0.004639483988285065\n",
      "step: 10, loss: 0.004491213709115982\n",
      "step: 20, loss: 0.004348115995526314\n",
      "step: 30, loss: 0.004381572362035513\n",
      "step: 40, loss: 0.004602969624102116\n",
      "step: 50, loss: 0.004678952507674694\n",
      "step: 60, loss: 0.0038568545132875443\n",
      "step: 70, loss: 0.004208880476653576\n",
      "step: 80, loss: 0.004368780180811882\n",
      "step: 90, loss: 0.004750215448439121\n",
      "step: 100, loss: 0.004190473351627588\n",
      "step: 110, loss: 0.0042086136527359486\n",
      "step: 120, loss: 0.004054686054587364\n",
      "step: 130, loss: 0.0039133974350988865\n",
      "step: 0, loss: 0.004254588391631842\n",
      "step: 10, loss: 0.003773802425712347\n",
      "step: 20, loss: 0.0040804841555655\n",
      "step: 30, loss: 0.0037638265639543533\n",
      "step: 40, loss: 0.00354101718403399\n",
      "step: 50, loss: 0.003992942627519369\n",
      "step: 60, loss: 0.0035605791490525007\n",
      "step: 70, loss: 0.004084889777004719\n",
      "step: 80, loss: 0.003820928279310465\n",
      "step: 90, loss: 0.003395085921511054\n",
      "step: 100, loss: 0.0038450774736702442\n",
      "step: 110, loss: 0.0033992428798228502\n",
      "step: 120, loss: 0.0038846794050186872\n",
      "step: 130, loss: 0.003651469713076949\n",
      "step: 0, loss: 0.0036438461393117905\n",
      "step: 10, loss: 0.0033677732571959496\n",
      "step: 20, loss: 0.003924320451915264\n",
      "step: 30, loss: 0.0036721816286444664\n",
      "step: 40, loss: 0.003678143722936511\n",
      "step: 50, loss: 0.0037663893308490515\n",
      "step: 60, loss: 0.0034946065861731768\n",
      "step: 70, loss: 0.0035901633091270924\n",
      "step: 80, loss: 0.0041069528087973595\n",
      "step: 90, loss: 0.004231310449540615\n",
      "step: 100, loss: 0.004119030199944973\n",
      "step: 110, loss: 0.003724430687725544\n",
      "step: 120, loss: 0.0037764795124530792\n",
      "step: 130, loss: 0.003840914461761713\n",
      "step: 0, loss: 0.004443182609975338\n",
      "step: 10, loss: 0.003962852992117405\n",
      "step: 20, loss: 0.0035914499312639236\n",
      "step: 30, loss: 0.003469697665423155\n",
      "step: 40, loss: 0.003939275164157152\n",
      "step: 50, loss: 0.00380380405113101\n",
      "step: 60, loss: 0.0039429129101336\n",
      "step: 70, loss: 0.0036777739878743887\n",
      "step: 80, loss: 0.0033773588947951794\n",
      "step: 90, loss: 0.00371692911721766\n",
      "step: 100, loss: 0.0036423723213374615\n",
      "step: 110, loss: 0.0036980665754526854\n",
      "step: 120, loss: 0.003401575144380331\n",
      "step: 130, loss: 0.003651287639513612\n",
      "step: 0, loss: 0.0037311976775527\n",
      "step: 10, loss: 0.003861714154481888\n",
      "step: 20, loss: 0.003499811515212059\n",
      "step: 30, loss: 0.0035406562965363264\n",
      "step: 40, loss: 0.0037827512715011835\n",
      "step: 50, loss: 0.004011153243482113\n",
      "step: 60, loss: 0.0039625572971999645\n",
      "step: 70, loss: 0.003806451568379998\n",
      "step: 80, loss: 0.0038113293703645468\n",
      "step: 90, loss: 0.003360450267791748\n",
      "step: 100, loss: 0.0036810915917158127\n",
      "step: 110, loss: 0.0040749781765043736\n",
      "step: 120, loss: 0.003984458744525909\n",
      "step: 130, loss: 0.003858917625620961\n"
     ]
    }
   ],
   "source": [
    "NUM_EPOCHS = 10\n",
    "losses = []\n",
    "for epoch in range(NUM_EPOCHS):\n",
    "    dataloader_iter = iter(dataloader)\n",
    "    for step, images in enumerate(dataloader_iter):\n",
    "        images = images.to(device)\n",
    "        # plt.imshow(images[0, 0].cpu().T)\n",
    "        # plt.show()\n",
    "        opt.zero_grad()\n",
    "\n",
    "        loss, pred_pixel_values, masked_indices, unmasked_indices, patches = mae(images, device=device)\n",
    "\n",
    "        if step % 10 == 0:\n",
    "            print(f\"step: {step}, loss: {loss.item()}\")\n",
    "        loss.backward()\n",
    "        losses.append(loss.detach().cpu().item())\n",
    "        opt.step()\n",
    "\n"
   ]
  },
  {
   "cell_type": "code",
   "execution_count": 331,
   "id": "f7191972-1e36-4fc0-a7c8-1f0299ea0f7d",
   "metadata": {},
   "outputs": [
    {
     "data": {
      "text/plain": [
       "[<matplotlib.lines.Line2D at 0x7f88561fac40>]"
      ]
     },
     "execution_count": 331,
     "metadata": {},
     "output_type": "execute_result"
    },
    {
     "data": {
      "image/png": "[encoded data removed]",
      "text/plain": [
       "<Figure size 432x288 with 1 Axes>"
      ]
     },
     "metadata": {
      "needs_background": "light"
     },
     "output_type": "display_data"
    }
   ],
   "source": [
    "plt.plot(losses[:10])"
   ]
  },
  {
   "cell_type": "code",
   "execution_count": 336,
   "id": "125b3389-6381-4ebe-a662-8edce4ba193e",
   "metadata": {},
   "outputs": [
    {
     "data": {
      "image/png": "[encoded data removed]",
      "text/plain": [
       "<Figure size 432x288 with 1 Axes>"
      ]
     },
     "metadata": {
      "needs_background": "light"
     },
     "output_type": "display_data"
    },
    {
     "data": {
      "image/png": "[encoded data removed]",
      "text/plain": [
       "<Figure size 432x288 with 1 Axes>"
      ]
     },
     "metadata": {
      "needs_background": "light"
     },
     "output_type": "display_data"
    },
    {
     "data": {
      "image/png": "[encoded data removed]",
      "text/plain": [
       "<Figure size 432x288 with 1 Axes>"
      ]
     },
     "metadata": {
      "needs_background": "light"
     },
     "output_type": "display_data"
    }
   ],
   "source": [
    "\n",
    "def visualize(pred_pixel_values, patches, seq_len=3, sample_id=0):\n",
    "    masked_patch_pred = pred_pixel_values[sample_id].detach().cpu()\n",
    "    masked_patch_true = patches[sample_id].cpu()\n",
    "\n",
    "    pred_patches = rearrange(masked_patch_pred, 'p (h w c) -> p c h w', c=3, h=12, w=12)\n",
    "    gt_patches = rearrange(masked_patch_true, '(p s) (h w c) -> (p s) c h w', c=3, h=12, w=12, s=seq_len)\n",
    "\n",
    "    pred_recons = gt_patches.clone()\n",
    "    pred_w_mask = gt_patches.clone()\n",
    "    pred_recons[masked_indices[sample_id]] = pred_patches\n",
    "    pred_w_mask[masked_indices[sample_id]] = 0.\n",
    "\n",
    "    pred_recons = rearrange(pred_recons, '(s p1 p2) c h w -> s c (p1 h) (p2 w)', p1=7, p2=7, c=3, h=12, w=12, s=seq_len)\n",
    "    pred_w_mask = rearrange(pred_w_mask, '(s p1 p2) c h w -> s c (p1 h) (p2 w)', p1=7, p2=7, c=3, h=12, w=12, s=seq_len)\n",
    "\n",
    "    imshow(torchvision.utils.make_grid(images[sample_id].cpu()))\n",
    "    imshow(torchvision.utils.make_grid(pred_recons.clip(0, 1), nrow=7))\n",
    "    imshow(torchvision.utils.make_grid(pred_w_mask, nrow=7 * seq_len))\n",
    "    \n",
    "visualize(pred_pixel_values, patches, seq_len=3, sample_id=6)"
   ]
  },
  {
   "cell_type": "code",
   "execution_count": 152,
   "id": "aaf005ab-b366-4190-9f32-29cbb0d0bb26",
   "metadata": {},
   "outputs": [
    {
     "data": {
      "text/plain": [
       "torch.Size([128, 147, 432])"
      ]
     },
     "execution_count": 152,
     "metadata": {},
     "output_type": "execute_result"
    }
   ],
   "source": [
    "patches.shape"
   ]
  },
  {
   "cell_type": "code",
   "execution_count": 153,
   "id": "46a3aed9-3d35-4b4a-9b24-74a92e86c195",
   "metadata": {},
   "outputs": [
    {
     "data": {
      "text/plain": [
       "49.0"
      ]
     },
     "execution_count": 153,
     "metadata": {},
     "output_type": "execute_result"
    }
   ],
   "source": [
    "147/3"
   ]
  },
  {
   "cell_type": "code",
   "execution_count": 136,
   "id": "fb80bab2-2d59-4760-8fe4-94707a0dd041",
   "metadata": {},
   "outputs": [
    {
     "ename": "RuntimeError",
     "evalue": "Boolean value of Tensor with more than one value is ambiguous",
     "output_type": "error",
     "traceback": [
      "\u001b[0;31m---------------------------------------------------------------------------\u001b[0m",
      "\u001b[0;31mRuntimeError\u001b[0m                              Traceback (most recent call last)",
      "\u001b[0;32m/tmp/ipykernel_474582/2954795542.py\u001b[0m in \u001b[0;36m<module>\u001b[0;34m\u001b[0m\n\u001b[1;32m      1\u001b[0m \u001b[0mimgs\u001b[0m \u001b[0;34m=\u001b[0m \u001b[0mx\u001b[0m\u001b[0;34m[\u001b[0m\u001b[0;36m0\u001b[0m\u001b[0;34m]\u001b[0m\u001b[0;34m\u001b[0m\u001b[0;34m\u001b[0m\u001b[0m\n\u001b[1;32m      2\u001b[0m \u001b[0;32mfor\u001b[0m \u001b[0mi\u001b[0m \u001b[0;32min\u001b[0m \u001b[0mrange\u001b[0m\u001b[0;34m(\u001b[0m\u001b[0mimgs\u001b[0m\u001b[0;34m.\u001b[0m\u001b[0mshape\u001b[0m\u001b[0;34m[\u001b[0m\u001b[0;36m0\u001b[0m\u001b[0;34m]\u001b[0m\u001b[0;34m)\u001b[0m\u001b[0;34m:\u001b[0m\u001b[0;34m\u001b[0m\u001b[0;34m\u001b[0m\u001b[0m\n\u001b[0;32m----> 3\u001b[0;31m     \u001b[0mplt\u001b[0m\u001b[0;34m.\u001b[0m\u001b[0mshow\u001b[0m\u001b[0;34m(\u001b[0m\u001b[0mimgs\u001b[0m\u001b[0;34m[\u001b[0m\u001b[0mi\u001b[0m\u001b[0;34m]\u001b[0m\u001b[0;34m.\u001b[0m\u001b[0mT\u001b[0m\u001b[0;34m)\u001b[0m\u001b[0;34m\u001b[0m\u001b[0;34m\u001b[0m\u001b[0m\n\u001b[0m",
      "\u001b[0;32m~/Applications/anaconda3/envs/jumping_quadrupeds/lib/python3.8/site-packages/matplotlib/pyplot.py\u001b[0m in \u001b[0;36mshow\u001b[0;34m(*args, **kwargs)\u001b[0m\n\u001b[1;32m    376\u001b[0m     \"\"\"\n\u001b[1;32m    377\u001b[0m     \u001b[0m_warn_if_gui_out_of_main_thread\u001b[0m\u001b[0;34m(\u001b[0m\u001b[0;34m)\u001b[0m\u001b[0;34m\u001b[0m\u001b[0;34m\u001b[0m\u001b[0m\n\u001b[0;32m--> 378\u001b[0;31m     \u001b[0;32mreturn\u001b[0m \u001b[0m_backend_mod\u001b[0m\u001b[0;34m.\u001b[0m\u001b[0mshow\u001b[0m\u001b[0;34m(\u001b[0m\u001b[0;34m*\u001b[0m\u001b[0margs\u001b[0m\u001b[0;34m,\u001b[0m \u001b[0;34m**\u001b[0m\u001b[0mkwargs\u001b[0m\u001b[0;34m)\u001b[0m\u001b[0;34m\u001b[0m\u001b[0;34m\u001b[0m\u001b[0m\n\u001b[0m\u001b[1;32m    379\u001b[0m \u001b[0;34m\u001b[0m\u001b[0m\n\u001b[1;32m    380\u001b[0m \u001b[0;34m\u001b[0m\u001b[0m\n",
      "\u001b[0;32m~/Applications/anaconda3/envs/jumping_quadrupeds/lib/python3.8/site-packages/matplotlib_inline/backend_inline.py\u001b[0m in \u001b[0;36mshow\u001b[0;34m(close, block)\u001b[0m\n\u001b[1;32m     47\u001b[0m         \u001b[0;31m# only call close('all') if any to close\u001b[0m\u001b[0;34m\u001b[0m\u001b[0;34m\u001b[0m\u001b[0;34m\u001b[0m\u001b[0m\n\u001b[1;32m     48\u001b[0m         \u001b[0;31m# close triggers gc.collect, which can be slow\u001b[0m\u001b[0;34m\u001b[0m\u001b[0;34m\u001b[0m\u001b[0;34m\u001b[0m\u001b[0m\n\u001b[0;32m---> 49\u001b[0;31m         \u001b[0;32mif\u001b[0m \u001b[0mclose\u001b[0m \u001b[0;32mand\u001b[0m \u001b[0mGcf\u001b[0m\u001b[0;34m.\u001b[0m\u001b[0mget_all_fig_managers\u001b[0m\u001b[0;34m(\u001b[0m\u001b[0;34m)\u001b[0m\u001b[0;34m:\u001b[0m\u001b[0;34m\u001b[0m\u001b[0;34m\u001b[0m\u001b[0m\n\u001b[0m\u001b[1;32m     50\u001b[0m             \u001b[0mmatplotlib\u001b[0m\u001b[0;34m.\u001b[0m\u001b[0mpyplot\u001b[0m\u001b[0;34m.\u001b[0m\u001b[0mclose\u001b[0m\u001b[0;34m(\u001b[0m\u001b[0;34m'all'\u001b[0m\u001b[0;34m)\u001b[0m\u001b[0;34m\u001b[0m\u001b[0;34m\u001b[0m\u001b[0m\n\u001b[1;32m     51\u001b[0m \u001b[0;34m\u001b[0m\u001b[0m\n",
      "\u001b[0;31mRuntimeError\u001b[0m: Boolean value of Tensor with more than one value is ambiguous"
     ]
    }
   ],
   "source": [
    "imgs = x[0]\n",
    "for i in range(imgs.shape[0]):\n",
    "    plt.show(imgs[i].T)"
   ]
  },
  {
   "cell_type": "code",
   "execution_count": 17,
   "id": "08d80b1e-df48-4eec-8d58-b0cec9797f69",
   "metadata": {},
   "outputs": [],
   "source": [
    "dataset = miniimagenet('data', ways=5, shots=5, meta_train=True, download=True)\n",
    "dataset = NonEpisodicWrapper(dataset)\n",
    "dataloader = iter(cycle(DataLoader(dataset, batch_size=128, shuffle=True)))\n"
   ]
  },
  {
   "cell_type": "code",
   "execution_count": 37,
   "id": "2496e5b6-4a4c-48f8-bd74-e39642f03ff9",
   "metadata": {},
   "outputs": [
    {
     "ename": "ValueError",
     "evalue": "too many values to unpack (expected 2)",
     "output_type": "error",
     "traceback": [
      "\u001b[0;31m---------------------------------------------------------------------------\u001b[0m",
      "\u001b[0;31mValueError\u001b[0m                                Traceback (most recent call last)",
      "\u001b[0;32m/tmp/ipykernel_6148/3029450315.py\u001b[0m in \u001b[0;36m<module>\u001b[0;34m\u001b[0m\n\u001b[1;32m      2\u001b[0m \u001b[0;34m\u001b[0m\u001b[0m\n\u001b[1;32m      3\u001b[0m \u001b[0;32mfor\u001b[0m \u001b[0mepoch\u001b[0m \u001b[0;32min\u001b[0m \u001b[0mrange\u001b[0m\u001b[0;34m(\u001b[0m\u001b[0mNUM_EPOCHS\u001b[0m\u001b[0;34m)\u001b[0m\u001b[0;34m:\u001b[0m\u001b[0;34m\u001b[0m\u001b[0;34m\u001b[0m\u001b[0m\n\u001b[0;32m----> 4\u001b[0;31m     \u001b[0;32mfor\u001b[0m \u001b[0mstep\u001b[0m\u001b[0;34m,\u001b[0m \u001b[0;34m(\u001b[0m\u001b[0mimages\u001b[0m\u001b[0;34m,\u001b[0m \u001b[0mlabels\u001b[0m\u001b[0;34m)\u001b[0m \u001b[0;32min\u001b[0m \u001b[0menumerate\u001b[0m\u001b[0;34m(\u001b[0m\u001b[0mdataloader\u001b[0m\u001b[0;34m)\u001b[0m\u001b[0;34m:\u001b[0m\u001b[0;34m\u001b[0m\u001b[0;34m\u001b[0m\u001b[0m\n\u001b[0m\u001b[1;32m      5\u001b[0m         \u001b[0mimages\u001b[0m \u001b[0;34m=\u001b[0m \u001b[0mimages\u001b[0m\u001b[0;34m.\u001b[0m\u001b[0mto\u001b[0m\u001b[0;34m(\u001b[0m\u001b[0mdevice\u001b[0m\u001b[0;34m)\u001b[0m\u001b[0;34m\u001b[0m\u001b[0;34m\u001b[0m\u001b[0m\n\u001b[1;32m      6\u001b[0m         \u001b[0mloss\u001b[0m\u001b[0;34m,\u001b[0m \u001b[0mpred_pixel_values\u001b[0m\u001b[0;34m,\u001b[0m \u001b[0mmasked_indices\u001b[0m\u001b[0;34m,\u001b[0m \u001b[0munmasked_indices\u001b[0m\u001b[0;34m,\u001b[0m \u001b[0mpatches\u001b[0m \u001b[0;34m=\u001b[0m \u001b[0mmae\u001b[0m\u001b[0;34m(\u001b[0m\u001b[0mimages\u001b[0m\u001b[0;34m)\u001b[0m\u001b[0;34m\u001b[0m\u001b[0;34m\u001b[0m\u001b[0m\n",
      "\u001b[0;31mValueError\u001b[0m: too many values to unpack (expected 2)"
     ]
    }
   ],
   "source": [
    "NUM_EPOCHS = 2\n",
    "\n",
    "for epoch in range(NUM_EPOCHS):\n",
    "    for step, (images, labels) in enumerate(dataloader):\n",
    "        images = images.to(device)\n",
    "        loss, pred_pixel_values, masked_indices, unmasked_indices, patches = mae(images)\n",
    "        opt.zero_grad()\n",
    "        if step % 100 == 0:\n",
    "            print(f\"step: {step}, loss: {loss.item()}\")\n",
    "        loss.backward()\n",
    "        opt.step()\n",
    "\n"
   ]
  }
 ],
 "metadata": {
  "kernelspec": {
   "display_name": "jumping_quadrupeds",
   "language": "python",
   "name": "jumping_quadrupeds"
  },
  "language_info": {
   "codemirror_mode": {
    "name": "ipython",
    "version": 3
   },
   "file_extension": ".py",
   "mimetype": "text/x-python",
   "name": "python",
   "nbconvert_exporter": "python",
   "pygments_lexer": "ipython3",
   "version": "3.8.11"
  }
 },
 "nbformat": 4,
 "nbformat_minor": 5
}
